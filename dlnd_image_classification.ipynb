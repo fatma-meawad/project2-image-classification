{
 "cells": [
  {
   "cell_type": "markdown",
   "metadata": {
    "collapsed": true
   },
   "source": [
    "# Image Classification\n",
    "In this project, you'll classify images from the [CIFAR-10 dataset](https://www.cs.toronto.edu/~kriz/cifar.html).  The dataset consists of airplanes, dogs, cats, and other objects. You'll preprocess the images, then train a convolutional neural network on all the samples. The images need to be normalized and the labels need to be one-hot encoded.  You'll get to apply what you learned and build a convolutional, max pooling, dropout, and fully connected layers.  At the end, you'll get to see your neural network's predictions on the sample images.\n",
    "## Get the Data\n",
    "Run the following cell to download the [CIFAR-10 dataset for python](https://www.cs.toronto.edu/~kriz/cifar-10-python.tar.gz)."
   ]
  },
  {
   "cell_type": "code",
   "execution_count": 1,
   "metadata": {},
   "outputs": [
    {
     "name": "stderr",
     "output_type": "stream",
     "text": [
      "CIFAR-10 Dataset: 171MB [03:49, 742KB/s]                               \n"
     ]
    },
    {
     "name": "stdout",
     "output_type": "stream",
     "text": [
      "All files found!\n"
     ]
    }
   ],
   "source": [
    "\"\"\"\n",
    "DON'T MODIFY ANYTHING IN THIS CELL THAT IS BELOW THIS LINE\n",
    "\"\"\"\n",
    "from urllib.request import urlretrieve\n",
    "from os.path import isfile, isdir\n",
    "from tqdm import tqdm\n",
    "import problem_unittests as tests\n",
    "import tarfile\n",
    "\n",
    "cifar10_dataset_folder_path = 'cifar-10-batches-py'\n",
    "\n",
    "# Use Floyd's cifar-10 dataset if present\n",
    "floyd_cifar10_location = '/input/cifar-10/python.tar.gz'\n",
    "if isfile(floyd_cifar10_location):\n",
    "    tar_gz_path = floyd_cifar10_location\n",
    "else:\n",
    "    tar_gz_path = 'cifar-10-python.tar.gz'\n",
    "\n",
    "class DLProgress(tqdm):\n",
    "    last_block = 0\n",
    "\n",
    "    def hook(self, block_num=1, block_size=1, total_size=None):\n",
    "        self.total = total_size\n",
    "        self.update((block_num - self.last_block) * block_size)\n",
    "        self.last_block = block_num\n",
    "\n",
    "if not isfile(tar_gz_path):\n",
    "    with DLProgress(unit='B', unit_scale=True, miniters=1, desc='CIFAR-10 Dataset') as pbar:\n",
    "        urlretrieve(\n",
    "            'https://www.cs.toronto.edu/~kriz/cifar-10-python.tar.gz',\n",
    "            tar_gz_path,\n",
    "            pbar.hook)\n",
    "\n",
    "if not isdir(cifar10_dataset_folder_path):\n",
    "    with tarfile.open(tar_gz_path) as tar:\n",
    "        tar.extractall()\n",
    "        tar.close()\n",
    "\n",
    "\n",
    "tests.test_folder_path(cifar10_dataset_folder_path)"
   ]
  },
  {
   "cell_type": "markdown",
   "metadata": {},
   "source": [
    "## Explore the Data\n",
    "The dataset is broken into batches to prevent your machine from running out of memory.  The CIFAR-10 dataset consists of 5 batches, named `data_batch_1`, `data_batch_2`, etc.. Each batch contains the labels and images that are one of the following:\n",
    "* airplane\n",
    "* automobile\n",
    "* bird\n",
    "* cat\n",
    "* deer\n",
    "* dog\n",
    "* frog\n",
    "* horse\n",
    "* ship\n",
    "* truck\n",
    "\n",
    "Understanding a dataset is part of making predictions on the data.  Play around with the code cell below by changing the `batch_id` and `sample_id`. The `batch_id` is the id for a batch (1-5). The `sample_id` is the id for a image and label pair in the batch.\n",
    "\n",
    "Ask yourself \"What are all possible labels?\", \"What is the range of values for the image data?\", \"Are the labels in order or random?\".  Answers to questions like these will help you preprocess the data and end up with better predictions."
   ]
  },
  {
   "cell_type": "code",
   "execution_count": 2,
   "metadata": {},
   "outputs": [
    {
     "name": "stdout",
     "output_type": "stream",
     "text": [
      "\n",
      "Stats of batch 1:\n",
      "Samples: 10000\n",
      "Label Counts: {0: 1005, 1: 974, 2: 1032, 3: 1016, 4: 999, 5: 937, 6: 1030, 7: 1001, 8: 1025, 9: 981}\n",
      "First 20 Labels: [6, 9, 9, 4, 1, 1, 2, 7, 8, 3, 4, 7, 7, 2, 9, 9, 9, 3, 2, 6]\n",
      "\n",
      "Example of Image 5:\n",
      "Image - Min Value: 0 Max Value: 252\n",
      "Image - Shape: (32, 32, 3)\n",
      "Label - Label Id: 1 Name: automobile\n"
     ]
    },
    {
     "data": {
      "image/png": "[encoded data removed]",
      "text/plain": [
       "<matplotlib.figure.Figure at 0x108f4d780>"
      ]
     },
     "metadata": {
      "image/png": {
       "height": 250,
       "width": 253
      }
     },
     "output_type": "display_data"
    }
   ],
   "source": [
    "%matplotlib inline\n",
    "%config InlineBackend.figure_format = 'retina'\n",
    "\n",
    "import helper\n",
    "import numpy as np\n",
    "\n",
    "# Explore the dataset\n",
    "batch_id = 1\n",
    "sample_id = 5\n",
    "helper.display_stats(cifar10_dataset_folder_path, batch_id, sample_id)"
   ]
  },
  {
   "cell_type": "markdown",
   "metadata": {},
   "source": [
    "## Implement Preprocess Functions\n",
    "### Normalize\n",
    "In the cell below, implement the `normalize` function to take in image data, `x`, and return it as a normalized Numpy array. The values should be in the range of 0 to 1, inclusive.  The return object should be the same shape as `x`."
   ]
  },
  {
   "cell_type": "code",
   "execution_count": 6,
   "metadata": {},
   "outputs": [
    {
     "name": "stdout",
     "output_type": "stream",
     "text": [
      "Tests Passed\n"
     ]
    }
   ],
   "source": [
    "def normalize(x):\n",
    "    \"\"\"\n",
    "    Normalize a list of sample image data in the range of 0 to 1\n",
    "    : x: List of image data.  The image shape is (32, 32, 3)\n",
    "    : return: Numpy array of normalize data\n",
    "    \"\"\"\n",
    "    a = 0\n",
    "    b = 1\n",
    "    grayscale_min = 0\n",
    "    grayscale_max = 255\n",
    "\n",
    "    # TODO: Implement Function\n",
    "    return a + ( ( (x - grayscale_min)*(b - a) )/( grayscale_max - grayscale_min ) )\n",
    "\n",
    "\n",
    "\"\"\"\n",
    "DON'T MODIFY ANYTHING IN THIS CELL THAT IS BELOW THIS LINE\n",
    "\"\"\"\n",
    "tests.test_normalize(normalize)"
   ]
  },
  {
   "cell_type": "markdown",
   "metadata": {},
   "source": [
    "### One-hot encode\n",
    "Just like the previous code cell, you'll be implementing a function for preprocessing.  This time, you'll implement the `one_hot_encode` function. The input, `x`, are a list of labels.  Implement the function to return the list of labels as One-Hot encoded Numpy array.  The possible values for labels are 0 to 9. The one-hot encoding function should return the same encoding for each value between each call to `one_hot_encode`.  Make sure to save the map of encodings outside the function.\n",
    "\n",
    "Hint: Don't reinvent the wheel."
   ]
  },
  {
   "cell_type": "code",
   "execution_count": 184,
   "metadata": {},
   "outputs": [
    {
     "name": "stdout",
     "output_type": "stream",
     "text": [
      "Tests Passed\n"
     ]
    }
   ],
   "source": [
    "def one_hot_encode(x):\n",
    "    \"\"\"\n",
    "    One hot encode a list of sample labels. Return a one-hot encoded vector for each label.\n",
    "    : x: List of sample Labels\n",
    "    : return: Numpy array of one-hot encoded labels\n",
    "    \"\"\"\n",
    " \n",
    "    #hot= np.zeros([len(x), 10], dtype=int)\n",
    "    \n",
    "    #for y in x:\n",
    "     #   arr = np.zeros(10)\n",
    "      #  arr[y]=1\n",
    "       # print(arr)\n",
    "       # np.append(hot,arr)\n",
    "        \n",
    "        \n",
    "        \n",
    "    #print(hot) \n",
    "    sess = tf.Session()\n",
    "    value = sess.run(tf.one_hot(x,  10)) \n",
    "    return value\n",
    "\n",
    "\n",
    "\"\"\"\n",
    "DON'T MODIFY ANYTHING IN THIS CELL THAT IS BELOW THIS LINE\n",
    "\"\"\"\n",
    "tests.test_one_hot_encode(one_hot_encode)"
   ]
  },
  {
   "cell_type": "markdown",
   "metadata": {},
   "source": [
    "### Randomize Data\n",
    "As you saw from exploring the data above, the order of the samples are randomized.  It doesn't hurt to randomize it again, but you don't need to for this dataset."
   ]
  },
  {
   "cell_type": "markdown",
   "metadata": {},
   "source": [
    "## Preprocess all the data and save it\n",
    "Running the code cell below will preprocess all the CIFAR-10 data and save it to file. The code below also uses 10% of the training data for validation."
   ]
  },
  {
   "cell_type": "code",
   "execution_count": 185,
   "metadata": {
    "collapsed": true
   },
   "outputs": [],
   "source": [
    "\"\"\"\n",
    "DON'T MODIFY ANYTHING IN THIS CELL\n",
    "\"\"\"\n",
    "# Preprocess Training, Validation, and Testing Data\n",
    "helper.preprocess_and_save_data(cifar10_dataset_folder_path, normalize, one_hot_encode)"
   ]
  },
  {
   "cell_type": "markdown",
   "metadata": {},
   "source": [
    "# Check Point\n",
    "This is your first checkpoint.  If you ever decide to come back to this notebook or have to restart the notebook, you can start from here.  The preprocessed data has been saved to disk."
   ]
  },
  {
   "cell_type": "code",
   "execution_count": 186,
   "metadata": {
    "collapsed": true
   },
   "outputs": [],
   "source": [
    "\"\"\"\n",
    "DON'T MODIFY ANYTHING IN THIS CELL\n",
    "\"\"\"\n",
    "import pickle\n",
    "import problem_unittests as tests\n",
    "import helper\n",
    "\n",
    "# Load the Preprocessed Validation data\n",
    "valid_features, valid_labels = pickle.load(open('preprocess_validation.p', mode='rb'))"
   ]
  },
  {
   "cell_type": "markdown",
   "metadata": {},
   "source": [
    "## Build the network\n",
    "For the neural network, you'll build each layer into a function.  Most of the code you've seen has been outside of functions. To test your code more thoroughly, we require that you put each layer in a function.  This allows us to give you better feedback and test for simple mistakes using our unittests before you submit your project.\n",
    "\n",
    ">**Note:** If you're finding it hard to dedicate enough time for this course each week, we've provided a small shortcut to this part of the project. In the next couple of problems, you'll have the option to use classes from the [TensorFlow Layers](https://www.tensorflow.org/api_docs/python/tf/layers) or [TensorFlow Layers (contrib)](https://www.tensorflow.org/api_guides/python/contrib.layers) packages to build each layer, except the layers you build in the \"Convolutional and Max Pooling Layer\" section.  TF Layers is similar to Keras's and TFLearn's abstraction to layers, so it's easy to pickup.\n",
    "\n",
    ">However, if you would like to get the most out of this course, try to solve all the problems _without_ using anything from the TF Layers packages. You **can** still use classes from other packages that happen to have the same name as ones you find in TF Layers! For example, instead of using the TF Layers version of the `conv2d` class, [tf.layers.conv2d](https://www.tensorflow.org/api_docs/python/tf/layers/conv2d), you would want to use the TF Neural Network version of `conv2d`, [tf.nn.conv2d](https://www.tensorflow.org/api_docs/python/tf/nn/conv2d). \n",
    "\n",
    "Let's begin!\n",
    "\n",
    "### Input\n",
    "The neural network needs to read the image data, one-hot encoded labels, and dropout keep probability. Implement the following functions\n",
    "* Implement `neural_net_image_input`\n",
    " * Return a [TF Placeholder](https://www.tensorflow.org/api_docs/python/tf/placeholder)\n",
    " * Set the shape using `image_shape` with batch size set to `None`.\n",
    " * Name the TensorFlow placeholder \"x\" using the TensorFlow `name` parameter in the [TF Placeholder](https://www.tensorflow.org/api_docs/python/tf/placeholder).\n",
    "* Implement `neural_net_label_input`\n",
    " * Return a [TF Placeholder](https://www.tensorflow.org/api_docs/python/tf/placeholder)\n",
    " * Set the shape using `n_classes` with batch size set to `None`.\n",
    " * Name the TensorFlow placeholder \"y\" using the TensorFlow `name` parameter in the [TF Placeholder](https://www.tensorflow.org/api_docs/python/tf/placeholder).\n",
    "* Implement `neural_net_keep_prob_input`\n",
    " * Return a [TF Placeholder](https://www.tensorflow.org/api_docs/python/tf/placeholder) for dropout keep probability.\n",
    " * Name the TensorFlow placeholder \"keep_prob\" using the TensorFlow `name` parameter in the [TF Placeholder](https://www.tensorflow.org/api_docs/python/tf/placeholder).\n",
    "\n",
    "These names will be used at the end of the project to load your saved model.\n",
    "\n",
    "Note: `None` for shapes in TensorFlow allow for a dynamic size."
   ]
  },
  {
   "cell_type": "code",
   "execution_count": 187,
   "metadata": {},
   "outputs": [
    {
     "name": "stdout",
     "output_type": "stream",
     "text": [
      "Image Input Tests Passed.\n",
      "Label Input Tests Passed.\n",
      "Keep Prob Tests Passed.\n"
     ]
    }
   ],
   "source": [
    "import tensorflow as tf\n",
    "\n",
    "def neural_net_image_input(image_shape):\n",
    "    \"\"\"\n",
    "    Return a Tensor for a batch of image input\n",
    "    : image_shape: Shape of the images\n",
    "    : return: Tensor for image input.\n",
    "    \"\"\"\n",
    "  \n",
    "    # TODO: Implement Function\n",
    "    return tf.placeholder(tf.float32, [None, image_shape[0], image_shape[1],image_shape[2]], name='x')\n",
    "\n",
    "\n",
    "def neural_net_label_input(n_classes):\n",
    "    \"\"\"\n",
    "    Return a Tensor for a batch of label input\n",
    "    : n_classes: Number of classes\n",
    "    : return: Tensor for label input.\n",
    "    \"\"\"\n",
    "    # TODO: Implement Function\n",
    "    return tf.placeholder(tf.float32, [None, n_classes], name='y')\n",
    "\n",
    "\n",
    "\n",
    "def neural_net_keep_prob_input():\n",
    "    \"\"\"\n",
    "    Return a Tensor for keep probability\n",
    "    : return: Tensor for keep probability.\n",
    "    \"\"\"\n",
    "    # TODO: Implement Function\n",
    "    return tf.placeholder(tf.float32, name='keep_prob')\n",
    "\n",
    "\"\"\"\n",
    "DON'T MODIFY ANYTHING IN THIS CELL THAT IS BELOW THIS LINE\n",
    "\"\"\"\n",
    "tf.reset_default_graph()\n",
    "tests.test_nn_image_inputs(neural_net_image_input)\n",
    "tests.test_nn_label_inputs(neural_net_label_input)\n",
    "tests.test_nn_keep_prob_inputs(neural_net_keep_prob_input)"
   ]
  },
  {
   "cell_type": "markdown",
   "metadata": {},
   "source": [
    "### Convolution and Max Pooling Layer\n",
    "Convolution layers have a lot of success with images. For this code cell, you should implement the function `conv2d_maxpool` to apply convolution then max pooling:\n",
    "* Create the weight and bias using `conv_ksize`, `conv_num_outputs` and the shape of `x_tensor`.\n",
    "* Apply a convolution to `x_tensor` using weight and `conv_strides`.\n",
    " * We recommend you use same padding, but you're welcome to use any padding.\n",
    "* Add bias\n",
    "* Add a nonlinear activation to the convolution.\n",
    "* Apply Max Pooling using `pool_ksize` and `pool_strides`.\n",
    " * We recommend you use same padding, but you're welcome to use any padding.\n",
    "\n",
    "**Note:** You **can't** use [TensorFlow Layers](https://www.tensorflow.org/api_docs/python/tf/layers) or [TensorFlow Layers (contrib)](https://www.tensorflow.org/api_guides/python/contrib.layers) for **this** layer, but you can still use TensorFlow's [Neural Network](https://www.tensorflow.org/api_docs/python/tf/nn) package. You may still use the shortcut option for all the **other** layers."
   ]
  },
  {
   "cell_type": "code",
   "execution_count": 188,
   "metadata": {},
   "outputs": [
    {
     "name": "stdout",
     "output_type": "stream",
     "text": [
      "Tests Passed\n"
     ]
    }
   ],
   "source": [
    "def conv2d_maxpool(x_tensor, conv_num_outputs, conv_ksize, conv_strides, pool_ksize, pool_strides):\n",
    "    \"\"\"\n",
    "    Apply convolution then max pooling to x_tensor\n",
    "    :param x_tensor: TensorFlow Tensor\n",
    "    :param conv_num_outputs: Number of outputs for the convolutional layer\n",
    "    :param conv_ksize: kernal size 2-D Tuple for the convolutional layer\n",
    "    :param conv_strides: Stride 2-D Tuple for convolution\n",
    "    :param pool_ksize: kernal size 2-D Tuple for pool\n",
    "    :param pool_strides: Stride 2-D Tuple for pool\n",
    "    : return: A tensor that represents convolution and max pooling of x_tensor\n",
    "    \"\"\"\n",
    "    \n",
    "    t=x_tensor.get_shape().as_list()[3]\n",
    "  \n",
    "    weights_conv= tf.Variable(tf.random_normal([conv_ksize[0], conv_ksize[1], t, conv_num_outputs]))\n",
    "    biases_conv= tf.Variable(tf.random_normal([conv_num_outputs]))\n",
    "    \n",
    "    \n",
    "    x_net = tf.nn.conv2d(x_tensor,  weights_conv, strides=[1, conv_strides[0],conv_strides[1], 1], padding='SAME')\n",
    "    x_net = tf.nn.bias_add(x_net, biases_conv)\n",
    "    \n",
    "    y_net=tf.nn.relu(x_net)\n",
    "    y_net=tf.nn.max_pool(y_net,ksize=[1, pool_ksize[0], pool_ksize[1], 1], strides=[1, pool_strides[0], pool_strides[1], 1],padding='SAME')\n",
    "    \n",
    "    # TODO: Implement Function\n",
    "    return y_net\n",
    "\n",
    "\n",
    "\"\"\"\n",
    "DON'T MODIFY ANYTHING IN THIS CELL THAT IS BELOW THIS LINE\n",
    "\"\"\"\n",
    "tests.test_con_pool(conv2d_maxpool)"
   ]
  },
  {
   "cell_type": "markdown",
   "metadata": {},
   "source": [
    "### Flatten Layer\n",
    "Implement the `flatten` function to change the dimension of `x_tensor` from a 4-D tensor to a 2-D tensor.  The output should be the shape (*Batch Size*, *Flattened Image Size*). Shortcut option: you can use classes from the [TensorFlow Layers](https://www.tensorflow.org/api_docs/python/tf/layers) or [TensorFlow Layers (contrib)](https://www.tensorflow.org/api_guides/python/contrib.layers) packages for this layer. For more of a challenge, only use other TensorFlow packages."
   ]
  },
  {
   "cell_type": "code",
   "execution_count": 189,
   "metadata": {},
   "outputs": [
    {
     "name": "stdout",
     "output_type": "stream",
     "text": [
      "Tests Passed\n"
     ]
    }
   ],
   "source": [
    "def flatten(x_tensor):\n",
    "    \"\"\"\n",
    "    Flatten x_tensor to (Batch Size, Flattened Image Size)\n",
    "    : x_tensor: A tensor of size (Batch Size, ...), where ... are the image dimensions.\n",
    "    : return: A tensor of size (Batch Size, Flattened Image Size).\n",
    "    \"\"\"\n",
    "    # TODO: Implement Function\n",
    "  \n",
    "    t=tf.shape(x_tensor)[0]\n",
    "    y=x_tensor.get_shape().as_list()[3]\n",
    "    y*=x_tensor.get_shape().as_list()[2]\n",
    "    y*=x_tensor.get_shape().as_list()[1]\n",
    "    final_tensor=tf.reshape(x_tensor,[t,y])\n",
    "    return tf.reshape(x_tensor,[t,y])\n",
    "\n",
    "\n",
    "\"\"\"\n",
    "DON'T MODIFY ANYTHING IN THIS CELL THAT IS BELOW THIS LINE\n",
    "\"\"\"\n",
    "tests.test_flatten(flatten)"
   ]
  },
  {
   "cell_type": "markdown",
   "metadata": {},
   "source": [
    "### Fully-Connected Layer\n",
    "Implement the `fully_conn` function to apply a fully connected layer to `x_tensor` with the shape (*Batch Size*, *num_outputs*). Shortcut option: you can use classes from the [TensorFlow Layers](https://www.tensorflow.org/api_docs/python/tf/layers) or [TensorFlow Layers (contrib)](https://www.tensorflow.org/api_guides/python/contrib.layers) packages for this layer. For more of a challenge, only use other TensorFlow packages."
   ]
  },
  {
   "cell_type": "code",
   "execution_count": 190,
   "metadata": {},
   "outputs": [
    {
     "name": "stdout",
     "output_type": "stream",
     "text": [
      "Tests Passed\n"
     ]
    }
   ],
   "source": [
    "def fully_conn(x_tensor, num_outputs):\n",
    "    \"\"\"\n",
    "    Apply a fully connected layer to x_tensor using weight and bias\n",
    "    : x_tensor: A 2-D tensor where the first dimension is batch size.\n",
    "    : num_outputs: The number of output that the new tensor should be.\n",
    "    : return: A 2-D tensor where the second dimension is num_outputs.\n",
    "    \"\"\"\n",
    "  \n",
    "    weights= tf.Variable(tf.random_normal([x_tensor.get_shape().as_list()[1], num_outputs]))\n",
    "    biases=tf.Variable(tf.random_normal([num_outputs]))\n",
    "    \n",
    "    fc1=tf.add(tf.matmul(x_tensor, weights), biases)\n",
    "    fc1 = tf.nn.relu(fc1)\n",
    "    # TODO: Implement Function\n",
    "    return fc1\n",
    "\n",
    "\n",
    "\"\"\"\n",
    "DON'T MODIFY ANYTHING IN THIS CELL THAT IS BELOW THIS LINE\n",
    "\"\"\"\n",
    "tests.test_fully_conn(fully_conn)"
   ]
  },
  {
   "cell_type": "markdown",
   "metadata": {},
   "source": [
    "### Output Layer\n",
    "Implement the `output` function to apply a fully connected layer to `x_tensor` with the shape (*Batch Size*, *num_outputs*). Shortcut option: you can use classes from the [TensorFlow Layers](https://www.tensorflow.org/api_docs/python/tf/layers) or [TensorFlow Layers (contrib)](https://www.tensorflow.org/api_guides/python/contrib.layers) packages for this layer. For more of a challenge, only use other TensorFlow packages.\n",
    "\n",
    "**Note:** Activation, softmax, or cross entropy should **not** be applied to this."
   ]
  },
  {
   "cell_type": "code",
   "execution_count": 191,
   "metadata": {},
   "outputs": [
    {
     "name": "stdout",
     "output_type": "stream",
     "text": [
      "Tests Passed\n"
     ]
    }
   ],
   "source": [
    "def output(x_tensor, num_outputs):\n",
    "    \"\"\"\n",
    "    Apply a output layer to x_tensor using weight and bias\n",
    "    : x_tensor: A 2-D tensor where the first dimension is batch size.\n",
    "    : num_outputs: The number of output that the new tensor should be.\n",
    "    : return: A 2-D tensor where the second dimension is num_outputs.\n",
    "    \"\"\"\n",
    "    \n",
    "    weights= tf.Variable(tf.random_normal([x_tensor.get_shape().as_list()[1], num_outputs]))\n",
    "    biases=tf.Variable(tf.random_normal([num_outputs]))\n",
    "    out=tf.add(tf.matmul(x_tensor, weights), biases)\n",
    "    # TODO: Implement Function\n",
    "    return out\n",
    "\n",
    "\n",
    "\"\"\"\n",
    "DON'T MODIFY ANYTHING IN THIS CELL THAT IS BELOW THIS LINE\n",
    "\"\"\"\n",
    "tests.test_output(output)"
   ]
  },
  {
   "cell_type": "markdown",
   "metadata": {},
   "source": [
    "### Create Convolutional Model\n",
    "Implement the function `conv_net` to create a convolutional neural network model. The function takes in a batch of images, `x`, and outputs logits.  Use the layers you created above to create this model:\n",
    "\n",
    "* Apply 1, 2, or 3 Convolution and Max Pool layers\n",
    "* Apply a Flatten Layer\n",
    "* Apply 1, 2, or 3 Fully Connected Layers\n",
    "* Apply an Output Layer\n",
    "* Return the output\n",
    "* Apply [TensorFlow's Dropout](https://www.tensorflow.org/api_docs/python/tf/nn/dropout) to one or more layers in the model using `keep_prob`. "
   ]
  },
  {
   "cell_type": "code",
   "execution_count": 197,
   "metadata": {},
   "outputs": [
    {
     "name": "stdout",
     "output_type": "stream",
     "text": [
      "Neural Network Built!\n"
     ]
    }
   ],
   "source": [
    "def conv_net(x, keep_prob):\n",
    "    \"\"\"\n",
    "    Create a convolutional neural network model\n",
    "    : x: Placeholder tensor that holds image data.\n",
    "    : keep_prob: Placeholder tensor that hold dropout keep probability.\n",
    "    : return: Tensor that represents logits\n",
    "    \"\"\"\n",
    "    # TODO: Apply 1, 2, or 3 Convolution and Max Pool layers\n",
    "    #    Play around with different number of outputs, kernel size and stride\n",
    "    # Function Definition from Above:\n",
    "    conv_ksize=(4,4)\n",
    "    conv_strides=(2,2)\n",
    "    pool_ksize=(2,2)\n",
    "    pool_strides=(1,1)\n",
    "    conv_num_outputs=64\n",
    "    x_tensor= conv2d_maxpool(x, conv_num_outputs, conv_ksize, conv_strides, pool_ksize, pool_strides)\n",
    "    x_tensor= conv2d_maxpool( x_tensor, 128, conv_ksize, conv_strides, pool_ksize, pool_strides)\n",
    "    x_tensor= conv2d_maxpool( x_tensor, 256, conv_ksize, conv_strides, pool_ksize, pool_strides)\n",
    "\n",
    "    # TODO: Apply a Flatten Layer\n",
    "    # Function Definition from Above:\n",
    "    x_tensor= flatten(x_tensor)\n",
    "    \n",
    "\n",
    "    # TODO: Apply 1, 2, or 3 Fully Connected Layers\n",
    "    #    Play around with different number of outputs\n",
    "    # Function Definition from Above:\n",
    "    num_outputs=1024\n",
    "    x_tensor= fully_conn(x_tensor, num_outputs)\n",
    "    x_tensor= fully_conn(x_tensor, num_outputs)\n",
    "    \n",
    "    # TODO: Apply an Output Layer\n",
    "    #    Set this to the number of classes\n",
    "    # Function Definition from Above:\n",
    "    logits= output(x_tensor, 10)\n",
    "    \n",
    "    \n",
    "    # TODO: return output\n",
    "    return logits\n",
    "\n",
    "\n",
    "\"\"\"\n",
    "DON'T MODIFY ANYTHING IN THIS CELL THAT IS BELOW THIS LINE\n",
    "\"\"\"\n",
    "\n",
    "##############################\n",
    "## Build the Neural Network ##\n",
    "##############################\n",
    "\n",
    "# Remove previous weights, bias, inputs, etc..\n",
    "tf.reset_default_graph()\n",
    "\n",
    "# Inputs\n",
    "x = neural_net_image_input((32, 32, 3))\n",
    "y = neural_net_label_input(10)\n",
    "keep_prob = neural_net_keep_prob_input()\n",
    "\n",
    "# Model\n",
    "logits = conv_net(x, keep_prob)\n",
    "\n",
    "# Name logits Tensor, so that is can be loaded from disk after training\n",
    "logits = tf.identity(logits, name='logits')\n",
    "\n",
    "# Loss and Optimizer\n",
    "cost = tf.reduce_mean(tf.nn.softmax_cross_entropy_with_logits(logits=logits, labels=y))\n",
    "optimizer = tf.train.AdamOptimizer().minimize(cost)\n",
    "\n",
    "# Accuracy\n",
    "correct_pred = tf.equal(tf.argmax(logits, 1), tf.argmax(y, 1))\n",
    "accuracy = tf.reduce_mean(tf.cast(correct_pred, tf.float32), name='accuracy')\n",
    "\n",
    "tests.test_conv_net(conv_net)"
   ]
  },
  {
   "cell_type": "markdown",
   "metadata": {},
   "source": [
    "## Train the Neural Network\n",
    "### Single Optimization\n",
    "Implement the function `train_neural_network` to do a single optimization.  The optimization should use `optimizer` to optimize in `session` with a `feed_dict` of the following:\n",
    "* `x` for image input\n",
    "* `y` for labels\n",
    "* `keep_prob` for keep probability for dropout\n",
    "\n",
    "This function will be called for each batch, so `tf.global_variables_initializer()` has already been called.\n",
    "\n",
    "Note: Nothing needs to be returned. This function is only optimizing the neural network."
   ]
  },
  {
   "cell_type": "code",
   "execution_count": 198,
   "metadata": {},
   "outputs": [
    {
     "name": "stdout",
     "output_type": "stream",
     "text": [
      "Tests Passed\n"
     ]
    }
   ],
   "source": [
    "def train_neural_network(session, optimizer, keep_probability, feature_batch, label_batch):\n",
    "    \"\"\"\n",
    "    Optimize the session on a batch of images and labels\n",
    "    : session: Current TensorFlow session\n",
    "    : optimizer: TensorFlow optimizer function\n",
    "    : keep_probability: keep probability\n",
    "    : feature_batch: Batch of Numpy image data\n",
    "    : label_batch: Batch of Numpy label data\n",
    "    \"\"\"\n",
    "    \n",
    "    session.run(optimizer, feed_dict={\n",
    "                x: feature_batch,\n",
    "                y: label_batch,\n",
    "                keep_prob: keep_probability})\n",
    "    \n",
    "    # TODO: Implement Function\n",
    "    pass\n",
    "\n",
    "\n",
    "\"\"\"\n",
    "DON'T MODIFY ANYTHING IN THIS CELL THAT IS BELOW THIS LINE\n",
    "\"\"\"\n",
    "tests.test_train_nn(train_neural_network)"
   ]
  },
  {
   "cell_type": "markdown",
   "metadata": {},
   "source": [
    "### Show Stats\n",
    "Implement the function `print_stats` to print loss and validation accuracy.  Use the global variables `valid_features` and `valid_labels` to calculate validation accuracy.  Use a keep probability of `1.0` to calculate the loss and validation accuracy."
   ]
  },
  {
   "cell_type": "code",
   "execution_count": 199,
   "metadata": {
    "collapsed": true
   },
   "outputs": [],
   "source": [
    "def print_stats(session, feature_batch, label_batch, cost, accuracy):\n",
    "    \"\"\"\n",
    "    Print information about loss and validation accuracy\n",
    "    : session: Current TensorFlow session\n",
    "    : feature_batch: Batch of Numpy image data\n",
    "    : label_batch: Batch of Numpy label data\n",
    "    : cost: TensorFlow cost function\n",
    "    : accuracy: TensorFlow accuracy function\n",
    "    \"\"\"\n",
    "    \n",
    "    loss = session.run(cost, feed_dict={\n",
    "                x: feature_batch,\n",
    "                y: label_batch,\n",
    "                keep_prob: 1.})\n",
    "    valid_acc = session.run(accuracy, feed_dict={\n",
    "                x: valid_features,\n",
    "                y: valid_labels,\n",
    "                keep_prob: 1.})\n",
    "\n",
    "    \n",
    "    print('Loss: {:>10.4f} Validation Accuracy: {:.6f}'.format(\n",
    "                loss,\n",
    "                valid_acc))\n",
    "\n",
    "      # TODO: Implement Function\n",
    "    pass"
   ]
  },
  {
   "cell_type": "markdown",
   "metadata": {},
   "source": [
    "### Hyperparameters\n",
    "Tune the following parameters:\n",
    "* Set `epochs` to the number of iterations until the network stops learning or start overfitting\n",
    "* Set `batch_size` to the highest number that your machine has memory for.  Most people set them to common sizes of memory:\n",
    " * 64\n",
    " * 128\n",
    " * 256\n",
    " * ...\n",
    "* Set `keep_probability` to the probability of keeping a node using dropout"
   ]
  },
  {
   "cell_type": "code",
   "execution_count": 203,
   "metadata": {
    "collapsed": true
   },
   "outputs": [],
   "source": [
    "# TODO: Tune Parameters\n",
    "epochs = 40\n",
    "batch_size = 256\n",
    "keep_probability = 0.50"
   ]
  },
  {
   "cell_type": "markdown",
   "metadata": {},
   "source": [
    "### Train on a Single CIFAR-10 Batch\n",
    "Instead of training the neural network on all the CIFAR-10 batches of data, let's use a single batch. This should save time while you iterate on the model to get a better accuracy.  Once the final validation accuracy is 50% or greater, run the model on all the data in the next section."
   ]
  },
  {
   "cell_type": "code",
   "execution_count": 204,
   "metadata": {},
   "outputs": [
    {
     "name": "stdout",
     "output_type": "stream",
     "text": [
      "Checking the Training on a Single Batch...\n",
      "Epoch  1, CIFAR-10 Batch 1:  Loss: 17024460.0000 Validation Accuracy: 0.204800\n",
      "Epoch  2, CIFAR-10 Batch 1:  Loss: 8860368.0000 Validation Accuracy: 0.255600\n",
      "Epoch  3, CIFAR-10 Batch 1:  Loss: 4450578.5000 Validation Accuracy: 0.292400\n",
      "Epoch  4, CIFAR-10 Batch 1:  Loss: 2696593.2500 Validation Accuracy: 0.305200\n",
      "Epoch  5, CIFAR-10 Batch 1:  Loss: 2667309.2500 Validation Accuracy: 0.302200\n",
      "Epoch  6, CIFAR-10 Batch 1:  Loss: 1951242.0000 Validation Accuracy: 0.320400\n",
      "Epoch  7, CIFAR-10 Batch 1:  Loss: 1149297.6250 Validation Accuracy: 0.324400\n",
      "Epoch  8, CIFAR-10 Batch 1:  Loss: 635725.8750 Validation Accuracy: 0.331000\n",
      "Epoch  9, CIFAR-10 Batch 1:  Loss: 1186215.0000 Validation Accuracy: 0.327000\n",
      "Epoch 10, CIFAR-10 Batch 1:  Loss: 442645.8438 Validation Accuracy: 0.356200\n",
      "Epoch 11, CIFAR-10 Batch 1:  Loss: 603637.5625 Validation Accuracy: 0.347200\n",
      "Epoch 12, CIFAR-10 Batch 1:  Loss: 636668.1250 Validation Accuracy: 0.343400\n",
      "Epoch 13, CIFAR-10 Batch 1:  Loss: 504238.0000 Validation Accuracy: 0.354800\n",
      "Epoch 14, CIFAR-10 Batch 1:  Loss: 436857.9062 Validation Accuracy: 0.345200\n",
      "Epoch 15, CIFAR-10 Batch 1:  Loss: 649146.1250 Validation Accuracy: 0.345800\n",
      "Epoch 16, CIFAR-10 Batch 1:  Loss: 177085.0938 Validation Accuracy: 0.376400\n",
      "Epoch 17, CIFAR-10 Batch 1:  Loss: 76828.6641 Validation Accuracy: 0.379800\n",
      "Epoch 18, CIFAR-10 Batch 1:  Loss: 40991.8750 Validation Accuracy: 0.383600\n",
      "Epoch 19, CIFAR-10 Batch 1:  Loss: 73927.0938 Validation Accuracy: 0.393200\n",
      "Epoch 20, CIFAR-10 Batch 1:  Loss: 98101.6094 Validation Accuracy: 0.380200\n",
      "Epoch 21, CIFAR-10 Batch 1:  Loss: 125148.0859 Validation Accuracy: 0.385000\n",
      "Epoch 22, CIFAR-10 Batch 1:  Loss: 198192.0312 Validation Accuracy: 0.397000\n",
      "Epoch 23, CIFAR-10 Batch 1:  Loss: 184010.2188 Validation Accuracy: 0.395000\n",
      "Epoch 24, CIFAR-10 Batch 1:  Loss: 145191.9844 Validation Accuracy: 0.382200\n",
      "Epoch 25, CIFAR-10 Batch 1:  Loss: 547978.0000 Validation Accuracy: 0.362400\n",
      "Epoch 26, CIFAR-10 Batch 1:  Loss: 99204.7344 Validation Accuracy: 0.389400\n",
      "Epoch 27, CIFAR-10 Batch 1:  Loss: 180799.6094 Validation Accuracy: 0.385600\n",
      "Epoch 28, CIFAR-10 Batch 1:  Loss: 229575.6562 Validation Accuracy: 0.363000\n",
      "Epoch 29, CIFAR-10 Batch 1:  Loss: 76178.2891 Validation Accuracy: 0.388000\n",
      "Epoch 30, CIFAR-10 Batch 1:  Loss: 198751.3438 Validation Accuracy: 0.376000\n",
      "Epoch 31, CIFAR-10 Batch 1:  Loss: 461228.9375 Validation Accuracy: 0.363200\n",
      "Epoch 32, CIFAR-10 Batch 1:  Loss: 284139.1875 Validation Accuracy: 0.393200\n",
      "Epoch 33, CIFAR-10 Batch 1:  Loss:     0.0000 Validation Accuracy: 0.400200\n",
      "Epoch 34, CIFAR-10 Batch 1:  Loss: 106575.9219 Validation Accuracy: 0.381400\n",
      "Epoch 35, CIFAR-10 Batch 1:  Loss:     0.0000 Validation Accuracy: 0.388000\n",
      "Epoch 36, CIFAR-10 Batch 1:  Loss: 51748.8008 Validation Accuracy: 0.374400\n",
      "Epoch 37, CIFAR-10 Batch 1:  Loss: 16118.2715 Validation Accuracy: 0.376000\n",
      "Epoch 38, CIFAR-10 Batch 1:  Loss:     0.0000 Validation Accuracy: 0.383000\n",
      "Epoch 39, CIFAR-10 Batch 1:  Loss:     0.0000 Validation Accuracy: 0.399000\n",
      "Epoch 40, CIFAR-10 Batch 1:  Loss:     0.0000 Validation Accuracy: 0.414200\n"
     ]
    }
   ],
   "source": [
    "\"\"\"\n",
    "DON'T MODIFY ANYTHING IN THIS CELL\n",
    "\"\"\"\n",
    "print('Checking the Training on a Single Batch...')\n",
    "with tf.Session() as sess:\n",
    "    # Initializing the variables\n",
    "    sess.run(tf.global_variables_initializer())\n",
    "    \n",
    "    # Training cycle\n",
    "    for epoch in range(epochs):\n",
    "        batch_i = 1\n",
    "        for batch_features, batch_labels in helper.load_preprocess_training_batch(batch_i, batch_size):\n",
    "            train_neural_network(sess, optimizer, keep_probability, batch_features, batch_labels)\n",
    "        print('Epoch {:>2}, CIFAR-10 Batch {}:  '.format(epoch + 1, batch_i), end='')\n",
    "        print_stats(sess, batch_features, batch_labels, cost, accuracy)"
   ]
  },
  {
   "cell_type": "markdown",
   "metadata": {},
   "source": [
    "### Fully Train the Model\n",
    "Now that you got a good accuracy with a single CIFAR-10 batch, try it with all five batches."
   ]
  },
  {
   "cell_type": "code",
   "execution_count": 205,
   "metadata": {},
   "outputs": [
    {
     "name": "stdout",
     "output_type": "stream",
     "text": [
      "Training...\n",
      "Epoch  1, CIFAR-10 Batch 1:  Loss: 10674234.0000 Validation Accuracy: 0.213600\n",
      "Epoch  1, CIFAR-10 Batch 2:  Loss: 7224360.0000 Validation Accuracy: 0.261000\n",
      "Epoch  1, CIFAR-10 Batch 3:  Loss: 5169362.5000 Validation Accuracy: 0.281000\n",
      "Epoch  1, CIFAR-10 Batch 4:  Loss: 4680520.0000 Validation Accuracy: 0.292400\n",
      "Epoch  1, CIFAR-10 Batch 5:  Loss: 2941201.7500 Validation Accuracy: 0.307000\n",
      "Epoch  2, CIFAR-10 Batch 1:  Loss: 4895723.0000 Validation Accuracy: 0.325000\n",
      "Epoch  2, CIFAR-10 Batch 2:  Loss: 4212494.5000 Validation Accuracy: 0.324200\n",
      "Epoch  2, CIFAR-10 Batch 3:  Loss: 2584441.5000 Validation Accuracy: 0.332600\n",
      "Epoch  2, CIFAR-10 Batch 4:  Loss: 2043388.3750 Validation Accuracy: 0.340000\n",
      "Epoch  2, CIFAR-10 Batch 5:  Loss: 1611535.8750 Validation Accuracy: 0.343600\n",
      "Epoch  3, CIFAR-10 Batch 1:  Loss: 2247321.5000 Validation Accuracy: 0.355200\n",
      "Epoch  3, CIFAR-10 Batch 2:  Loss: 3184424.5000 Validation Accuracy: 0.359000\n",
      "Epoch  3, CIFAR-10 Batch 3:  Loss: 2021918.0000 Validation Accuracy: 0.357000\n",
      "Epoch  3, CIFAR-10 Batch 4:  Loss: 1000317.3750 Validation Accuracy: 0.365600\n",
      "Epoch  3, CIFAR-10 Batch 5:  Loss: 1254543.2500 Validation Accuracy: 0.359000\n",
      "Epoch  4, CIFAR-10 Batch 1:  Loss: 1564593.6250 Validation Accuracy: 0.383000\n",
      "Epoch  4, CIFAR-10 Batch 2:  Loss: 2081978.0000 Validation Accuracy: 0.380000\n",
      "Epoch  4, CIFAR-10 Batch 3:  Loss: 1249328.0000 Validation Accuracy: 0.369000\n",
      "Epoch  4, CIFAR-10 Batch 4:  Loss: 584811.6250 Validation Accuracy: 0.390600\n",
      "Epoch  4, CIFAR-10 Batch 5:  Loss: 826897.1875 Validation Accuracy: 0.382600\n",
      "Epoch  5, CIFAR-10 Batch 1:  Loss: 1283636.2500 Validation Accuracy: 0.386000\n",
      "Epoch  5, CIFAR-10 Batch 2:  Loss: 1562325.0000 Validation Accuracy: 0.394000\n",
      "Epoch  5, CIFAR-10 Batch 3:  Loss: 610652.7500 Validation Accuracy: 0.393200\n",
      "Epoch  5, CIFAR-10 Batch 4:  Loss: 335583.3750 Validation Accuracy: 0.389800\n",
      "Epoch  5, CIFAR-10 Batch 5:  Loss: 578548.0000 Validation Accuracy: 0.403200\n",
      "Epoch  6, CIFAR-10 Batch 1:  Loss: 902060.3750 Validation Accuracy: 0.392000\n",
      "Epoch  6, CIFAR-10 Batch 2:  Loss: 970017.5000 Validation Accuracy: 0.391000\n",
      "Epoch  6, CIFAR-10 Batch 3:  Loss: 362935.7500 Validation Accuracy: 0.408400\n",
      "Epoch  6, CIFAR-10 Batch 4:  Loss: 211381.6562 Validation Accuracy: 0.388200\n",
      "Epoch  6, CIFAR-10 Batch 5:  Loss: 271423.9062 Validation Accuracy: 0.403000\n",
      "Epoch  7, CIFAR-10 Batch 1:  Loss: 794465.3750 Validation Accuracy: 0.399400\n",
      "Epoch  7, CIFAR-10 Batch 2:  Loss: 598032.0000 Validation Accuracy: 0.401000\n",
      "Epoch  7, CIFAR-10 Batch 3:  Loss: 292552.8125 Validation Accuracy: 0.404400\n",
      "Epoch  7, CIFAR-10 Batch 4:  Loss: 183331.2500 Validation Accuracy: 0.396000\n",
      "Epoch  7, CIFAR-10 Batch 5:  Loss: 266188.3438 Validation Accuracy: 0.409200\n",
      "Epoch  8, CIFAR-10 Batch 1:  Loss: 602147.8125 Validation Accuracy: 0.407600\n",
      "Epoch  8, CIFAR-10 Batch 2:  Loss: 407261.2500 Validation Accuracy: 0.396000\n",
      "Epoch  8, CIFAR-10 Batch 3:  Loss: 133746.9062 Validation Accuracy: 0.401800\n",
      "Epoch  8, CIFAR-10 Batch 4:  Loss: 132591.6562 Validation Accuracy: 0.410200\n",
      "Epoch  8, CIFAR-10 Batch 5:  Loss: 115727.6250 Validation Accuracy: 0.419600\n",
      "Epoch  9, CIFAR-10 Batch 1:  Loss: 446950.6875 Validation Accuracy: 0.415600\n",
      "Epoch  9, CIFAR-10 Batch 2:  Loss: 251706.7188 Validation Accuracy: 0.403000\n",
      "Epoch  9, CIFAR-10 Batch 3:  Loss: 68736.2969 Validation Accuracy: 0.418400\n",
      "Epoch  9, CIFAR-10 Batch 4:  Loss: 142066.3594 Validation Accuracy: 0.410200\n",
      "Epoch  9, CIFAR-10 Batch 5:  Loss: 105914.0469 Validation Accuracy: 0.421400\n",
      "Epoch 10, CIFAR-10 Batch 1:  Loss: 368667.9375 Validation Accuracy: 0.414600\n",
      "Epoch 10, CIFAR-10 Batch 2:  Loss: 239898.2031 Validation Accuracy: 0.399400\n",
      "Epoch 10, CIFAR-10 Batch 3:  Loss: 96031.4375 Validation Accuracy: 0.413000\n",
      "Epoch 10, CIFAR-10 Batch 4:  Loss: 93579.0156 Validation Accuracy: 0.421600\n",
      "Epoch 10, CIFAR-10 Batch 5:  Loss: 118552.3906 Validation Accuracy: 0.424600\n",
      "Epoch 11, CIFAR-10 Batch 1:  Loss: 326852.8125 Validation Accuracy: 0.424400\n",
      "Epoch 11, CIFAR-10 Batch 2:  Loss: 162756.4531 Validation Accuracy: 0.395800\n",
      "Epoch 11, CIFAR-10 Batch 3:  Loss: 24501.5879 Validation Accuracy: 0.438600\n",
      "Epoch 11, CIFAR-10 Batch 4:  Loss: 45628.8125 Validation Accuracy: 0.425600\n",
      "Epoch 11, CIFAR-10 Batch 5:  Loss: 41978.8633 Validation Accuracy: 0.431600\n",
      "Epoch 12, CIFAR-10 Batch 1:  Loss: 261563.5000 Validation Accuracy: 0.433200\n",
      "Epoch 12, CIFAR-10 Batch 2:  Loss: 127798.7031 Validation Accuracy: 0.405200\n",
      "Epoch 12, CIFAR-10 Batch 3:  Loss: 24053.0371 Validation Accuracy: 0.435600\n",
      "Epoch 12, CIFAR-10 Batch 4:  Loss: 64541.3008 Validation Accuracy: 0.433000\n",
      "Epoch 12, CIFAR-10 Batch 5:  Loss: 48664.5742 Validation Accuracy: 0.427600\n",
      "Epoch 13, CIFAR-10 Batch 1:  Loss: 207695.2344 Validation Accuracy: 0.429800\n",
      "Epoch 13, CIFAR-10 Batch 2:  Loss: 91195.5938 Validation Accuracy: 0.409800\n",
      "Epoch 13, CIFAR-10 Batch 3:  Loss: 23144.6250 Validation Accuracy: 0.446400\n",
      "Epoch 13, CIFAR-10 Batch 4:  Loss: 59931.0234 Validation Accuracy: 0.433600\n",
      "Epoch 13, CIFAR-10 Batch 5:  Loss: 61753.2305 Validation Accuracy: 0.417600\n",
      "Epoch 14, CIFAR-10 Batch 1:  Loss: 146405.6406 Validation Accuracy: 0.440000\n",
      "Epoch 14, CIFAR-10 Batch 2:  Loss: 47958.8008 Validation Accuracy: 0.423800\n",
      "Epoch 14, CIFAR-10 Batch 3:  Loss: 14675.0498 Validation Accuracy: 0.447200\n",
      "Epoch 14, CIFAR-10 Batch 4:  Loss: 23706.1992 Validation Accuracy: 0.433400\n",
      "Epoch 14, CIFAR-10 Batch 5:  Loss: 20952.3809 Validation Accuracy: 0.432800\n",
      "Epoch 15, CIFAR-10 Batch 1:  Loss: 126040.1484 Validation Accuracy: 0.445000\n",
      "Epoch 15, CIFAR-10 Batch 2:  Loss: 17107.8750 Validation Accuracy: 0.432400\n",
      "Epoch 15, CIFAR-10 Batch 3:  Loss: 20206.2129 Validation Accuracy: 0.448400\n",
      "Epoch 15, CIFAR-10 Batch 4:  Loss:     0.0000 Validation Accuracy: 0.438800\n",
      "Epoch 15, CIFAR-10 Batch 5:  Loss: 10522.7246 Validation Accuracy: 0.440000\n",
      "Epoch 16, CIFAR-10 Batch 1:  Loss: 142454.7812 Validation Accuracy: 0.442800\n",
      "Epoch 16, CIFAR-10 Batch 2:  Loss: 18822.4258 Validation Accuracy: 0.428600\n",
      "Epoch 16, CIFAR-10 Batch 3:  Loss: 32502.0371 Validation Accuracy: 0.454800\n",
      "Epoch 16, CIFAR-10 Batch 4:  Loss:  1013.6375 Validation Accuracy: 0.436600\n",
      "Epoch 16, CIFAR-10 Batch 5:  Loss: 17326.2383 Validation Accuracy: 0.438400\n",
      "Epoch 17, CIFAR-10 Batch 1:  Loss: 94688.1094 Validation Accuracy: 0.451000\n",
      "Epoch 17, CIFAR-10 Batch 2:  Loss: 17269.8379 Validation Accuracy: 0.422600\n",
      "Epoch 17, CIFAR-10 Batch 3:  Loss: 56089.8125 Validation Accuracy: 0.446000\n",
      "Epoch 17, CIFAR-10 Batch 4:  Loss:  9361.1621 Validation Accuracy: 0.445200\n",
      "Epoch 17, CIFAR-10 Batch 5:  Loss: 24347.0254 Validation Accuracy: 0.436000\n",
      "Epoch 18, CIFAR-10 Batch 1:  Loss: 76064.8984 Validation Accuracy: 0.446400\n",
      "Epoch 18, CIFAR-10 Batch 2:  Loss:  5410.6499 Validation Accuracy: 0.435000\n",
      "Epoch 18, CIFAR-10 Batch 3:  Loss: 27547.4883 Validation Accuracy: 0.447400\n",
      "Epoch 18, CIFAR-10 Batch 4:  Loss: 28119.6133 Validation Accuracy: 0.436400\n",
      "Epoch 18, CIFAR-10 Batch 5:  Loss: 37185.1641 Validation Accuracy: 0.441400\n",
      "Epoch 19, CIFAR-10 Batch 1:  Loss: 90072.2500 Validation Accuracy: 0.439600\n",
      "Epoch 19, CIFAR-10 Batch 2:  Loss: 11197.5752 Validation Accuracy: 0.440400\n",
      "Epoch 19, CIFAR-10 Batch 3:  Loss: 13176.5752 Validation Accuracy: 0.445800\n",
      "Epoch 19, CIFAR-10 Batch 4:  Loss:  6777.2188 Validation Accuracy: 0.451600\n",
      "Epoch 19, CIFAR-10 Batch 5:  Loss: 46277.0000 Validation Accuracy: 0.444000\n",
      "Epoch 20, CIFAR-10 Batch 1:  Loss: 75888.0000 Validation Accuracy: 0.431200\n",
      "Epoch 20, CIFAR-10 Batch 2:  Loss:  6497.2251 Validation Accuracy: 0.451000\n",
      "Epoch 20, CIFAR-10 Batch 3:  Loss:  5687.1064 Validation Accuracy: 0.443400\n",
      "Epoch 20, CIFAR-10 Batch 4:  Loss: 10982.9316 Validation Accuracy: 0.447200\n",
      "Epoch 20, CIFAR-10 Batch 5:  Loss: 33456.7734 Validation Accuracy: 0.453600\n",
      "Epoch 21, CIFAR-10 Batch 1:  Loss: 51253.0391 Validation Accuracy: 0.447000\n",
      "Epoch 21, CIFAR-10 Batch 2:  Loss:  9086.0127 Validation Accuracy: 0.450200\n",
      "Epoch 21, CIFAR-10 Batch 3:  Loss: 11774.0371 Validation Accuracy: 0.432400\n",
      "Epoch 21, CIFAR-10 Batch 4:  Loss: 10277.0752 Validation Accuracy: 0.459600\n",
      "Epoch 21, CIFAR-10 Batch 5:  Loss: 11678.5000 Validation Accuracy: 0.462400\n",
      "Epoch 22, CIFAR-10 Batch 1:  Loss: 57095.3320 Validation Accuracy: 0.440800\n",
      "Epoch 22, CIFAR-10 Batch 2:  Loss:  1919.5000 Validation Accuracy: 0.443200\n"
     ]
    },
    {
     "name": "stdout",
     "output_type": "stream",
     "text": [
      "Epoch 22, CIFAR-10 Batch 3:  Loss:  8817.6875 Validation Accuracy: 0.442000\n",
      "Epoch 22, CIFAR-10 Batch 4:  Loss: 21601.7188 Validation Accuracy: 0.444800\n",
      "Epoch 22, CIFAR-10 Batch 5:  Loss: 23113.0508 Validation Accuracy: 0.452800\n",
      "Epoch 23, CIFAR-10 Batch 1:  Loss: 80167.1641 Validation Accuracy: 0.432800\n",
      "Epoch 23, CIFAR-10 Batch 2:  Loss: 11137.1934 Validation Accuracy: 0.444200\n",
      "Epoch 23, CIFAR-10 Batch 3:  Loss: 16615.4492 Validation Accuracy: 0.442800\n",
      "Epoch 23, CIFAR-10 Batch 4:  Loss:  9623.3066 Validation Accuracy: 0.447000\n",
      "Epoch 23, CIFAR-10 Batch 5:  Loss: 24467.8320 Validation Accuracy: 0.438800\n",
      "Epoch 24, CIFAR-10 Batch 1:  Loss: 25942.9805 Validation Accuracy: 0.453800\n",
      "Epoch 24, CIFAR-10 Batch 2:  Loss:  3855.3687 Validation Accuracy: 0.439000\n",
      "Epoch 24, CIFAR-10 Batch 3:  Loss:  6900.7124 Validation Accuracy: 0.460000\n",
      "Epoch 24, CIFAR-10 Batch 4:  Loss:  6213.4688 Validation Accuracy: 0.451800\n",
      "Epoch 24, CIFAR-10 Batch 5:  Loss: 11521.0879 Validation Accuracy: 0.450600\n",
      "Epoch 25, CIFAR-10 Batch 1:  Loss: 26164.1133 Validation Accuracy: 0.470400\n",
      "Epoch 25, CIFAR-10 Batch 2:  Loss:  2888.7688 Validation Accuracy: 0.439600\n",
      "Epoch 25, CIFAR-10 Batch 3:  Loss: 33662.7734 Validation Accuracy: 0.443400\n",
      "Epoch 25, CIFAR-10 Batch 4:  Loss:  3941.2124 Validation Accuracy: 0.445400\n",
      "Epoch 25, CIFAR-10 Batch 5:  Loss: 29484.0879 Validation Accuracy: 0.451400\n",
      "Epoch 26, CIFAR-10 Batch 1:  Loss: 19758.8242 Validation Accuracy: 0.469600\n",
      "Epoch 26, CIFAR-10 Batch 2:  Loss:  7018.3188 Validation Accuracy: 0.444800\n",
      "Epoch 26, CIFAR-10 Batch 3:  Loss: 20582.6250 Validation Accuracy: 0.443800\n",
      "Epoch 26, CIFAR-10 Batch 4:  Loss: 14440.6250 Validation Accuracy: 0.437600\n",
      "Epoch 26, CIFAR-10 Batch 5:  Loss: 17134.6816 Validation Accuracy: 0.457200\n",
      "Epoch 27, CIFAR-10 Batch 1:  Loss:  3345.5312 Validation Accuracy: 0.477200\n",
      "Epoch 27, CIFAR-10 Batch 2:  Loss:  2990.8188 Validation Accuracy: 0.440000\n",
      "Epoch 27, CIFAR-10 Batch 3:  Loss:  7606.8125 Validation Accuracy: 0.456600\n",
      "Epoch 27, CIFAR-10 Batch 4:  Loss: 15873.8906 Validation Accuracy: 0.435600\n",
      "Epoch 27, CIFAR-10 Batch 5:  Loss: 11319.9189 Validation Accuracy: 0.467400\n",
      "Epoch 28, CIFAR-10 Batch 1:  Loss: 17054.2500 Validation Accuracy: 0.456200\n",
      "Epoch 28, CIFAR-10 Batch 2:  Loss: 13063.2295 Validation Accuracy: 0.441000\n",
      "Epoch 28, CIFAR-10 Batch 3:  Loss: 28745.5938 Validation Accuracy: 0.471200\n",
      "Epoch 28, CIFAR-10 Batch 4:  Loss: 15356.4316 Validation Accuracy: 0.451200\n",
      "Epoch 28, CIFAR-10 Batch 5:  Loss:  9819.6689 Validation Accuracy: 0.469600\n",
      "Epoch 29, CIFAR-10 Batch 1:  Loss:     0.0000 Validation Accuracy: 0.453200\n",
      "Epoch 29, CIFAR-10 Batch 2:  Loss:  1768.7188 Validation Accuracy: 0.472800\n",
      "Epoch 29, CIFAR-10 Batch 3:  Loss: 13973.6250 Validation Accuracy: 0.463600\n",
      "Epoch 29, CIFAR-10 Batch 4:  Loss: 20904.8281 Validation Accuracy: 0.449600\n",
      "Epoch 29, CIFAR-10 Batch 5:  Loss: 14220.0654 Validation Accuracy: 0.444600\n",
      "Epoch 30, CIFAR-10 Batch 1:  Loss:   402.9469 Validation Accuracy: 0.461000\n",
      "Epoch 30, CIFAR-10 Batch 2:  Loss:     0.0000 Validation Accuracy: 0.479600\n",
      "Epoch 30, CIFAR-10 Batch 3:  Loss:  3144.5625 Validation Accuracy: 0.467200\n",
      "Epoch 30, CIFAR-10 Batch 4:  Loss: 10485.1250 Validation Accuracy: 0.449000\n",
      "Epoch 30, CIFAR-10 Batch 5:  Loss:  5344.9751 Validation Accuracy: 0.446200\n",
      "Epoch 31, CIFAR-10 Batch 1:  Loss:  6914.4062 Validation Accuracy: 0.482800\n",
      "Epoch 31, CIFAR-10 Batch 2:  Loss:  9077.6934 Validation Accuracy: 0.464000\n",
      "Epoch 31, CIFAR-10 Batch 3:  Loss:     0.0000 Validation Accuracy: 0.480600\n",
      "Epoch 31, CIFAR-10 Batch 4:  Loss:  4903.6812 Validation Accuracy: 0.453800\n",
      "Epoch 31, CIFAR-10 Batch 5:  Loss: 12220.3076 Validation Accuracy: 0.451200\n",
      "Epoch 32, CIFAR-10 Batch 1:  Loss: 16243.5723 Validation Accuracy: 0.471000\n",
      "Epoch 32, CIFAR-10 Batch 2:  Loss:   571.8719 Validation Accuracy: 0.473400\n",
      "Epoch 32, CIFAR-10 Batch 3:  Loss:  5911.7593 Validation Accuracy: 0.471400\n",
      "Epoch 32, CIFAR-10 Batch 4:  Loss:  3721.4688 Validation Accuracy: 0.481000\n",
      "Epoch 32, CIFAR-10 Batch 5:  Loss:  4841.2656 Validation Accuracy: 0.475800\n",
      "Epoch 33, CIFAR-10 Batch 1:  Loss:  1774.7688 Validation Accuracy: 0.458200\n",
      "Epoch 33, CIFAR-10 Batch 2:  Loss:   553.2125 Validation Accuracy: 0.480400\n",
      "Epoch 33, CIFAR-10 Batch 3:  Loss:     0.0000 Validation Accuracy: 0.463200\n",
      "Epoch 33, CIFAR-10 Batch 4:  Loss:  8572.5811 Validation Accuracy: 0.469800\n",
      "Epoch 33, CIFAR-10 Batch 5:  Loss:  5227.1436 Validation Accuracy: 0.475400\n",
      "Epoch 34, CIFAR-10 Batch 1:  Loss:  3662.5625 Validation Accuracy: 0.477400\n",
      "Epoch 34, CIFAR-10 Batch 2:  Loss:  1196.5500 Validation Accuracy: 0.454400\n",
      "Epoch 34, CIFAR-10 Batch 3:  Loss:  3729.5532 Validation Accuracy: 0.465000\n",
      "Epoch 34, CIFAR-10 Batch 4:  Loss:     0.0000 Validation Accuracy: 0.476400\n",
      "Epoch 34, CIFAR-10 Batch 5:  Loss:  8250.0938 Validation Accuracy: 0.471200\n",
      "Epoch 35, CIFAR-10 Batch 1:  Loss:  9620.5186 Validation Accuracy: 0.458600\n",
      "Epoch 35, CIFAR-10 Batch 2:  Loss:  1046.0961 Validation Accuracy: 0.446600\n",
      "Epoch 35, CIFAR-10 Batch 3:  Loss: 15876.9111 Validation Accuracy: 0.469600\n",
      "Epoch 35, CIFAR-10 Batch 4:  Loss:  3129.3625 Validation Accuracy: 0.470400\n",
      "Epoch 35, CIFAR-10 Batch 5:  Loss:  1240.3000 Validation Accuracy: 0.469400\n",
      "Epoch 36, CIFAR-10 Batch 1:  Loss:  2456.2297 Validation Accuracy: 0.462400\n",
      "Epoch 36, CIFAR-10 Batch 2:  Loss:  2271.9937 Validation Accuracy: 0.436400\n",
      "Epoch 36, CIFAR-10 Batch 3:  Loss:     0.0000 Validation Accuracy: 0.465600\n",
      "Epoch 36, CIFAR-10 Batch 4:  Loss:   179.0719 Validation Accuracy: 0.464200\n",
      "Epoch 36, CIFAR-10 Batch 5:  Loss:  1305.1875 Validation Accuracy: 0.483200\n",
      "Epoch 37, CIFAR-10 Batch 1:  Loss:  2195.6499 Validation Accuracy: 0.478600\n",
      "Epoch 37, CIFAR-10 Batch 2:  Loss:     0.0000 Validation Accuracy: 0.435400\n",
      "Epoch 37, CIFAR-10 Batch 3:  Loss:     0.0000 Validation Accuracy: 0.454600\n",
      "Epoch 37, CIFAR-10 Batch 4:  Loss:    62.3281 Validation Accuracy: 0.468800\n",
      "Epoch 37, CIFAR-10 Batch 5:  Loss:     0.0000 Validation Accuracy: 0.487800\n",
      "Epoch 38, CIFAR-10 Batch 1:  Loss:     0.0000 Validation Accuracy: 0.479600\n",
      "Epoch 38, CIFAR-10 Batch 2:  Loss:  5379.7686 Validation Accuracy: 0.468800\n",
      "Epoch 38, CIFAR-10 Batch 3:  Loss:  5334.7949 Validation Accuracy: 0.439800\n",
      "Epoch 38, CIFAR-10 Batch 4:  Loss:     0.0000 Validation Accuracy: 0.464000\n",
      "Epoch 38, CIFAR-10 Batch 5:  Loss:  1336.1500 Validation Accuracy: 0.494000\n",
      "Epoch 39, CIFAR-10 Batch 1:  Loss:  1086.5938 Validation Accuracy: 0.480400\n",
      "Epoch 39, CIFAR-10 Batch 2:  Loss: 13071.4717 Validation Accuracy: 0.465800\n",
      "Epoch 39, CIFAR-10 Batch 3:  Loss:     0.0000 Validation Accuracy: 0.458600\n",
      "Epoch 39, CIFAR-10 Batch 4:  Loss:  6649.8188 Validation Accuracy: 0.459200\n",
      "Epoch 39, CIFAR-10 Batch 5:  Loss:     0.0000 Validation Accuracy: 0.495000\n",
      "Epoch 40, CIFAR-10 Batch 1:  Loss:     0.0000 Validation Accuracy: 0.483400\n",
      "Epoch 40, CIFAR-10 Batch 2:  Loss:     0.0000 Validation Accuracy: 0.474000\n",
      "Epoch 40, CIFAR-10 Batch 3:  Loss:  5638.7607 Validation Accuracy: 0.480000\n",
      "Epoch 40, CIFAR-10 Batch 4:  Loss:  4794.8154 Validation Accuracy: 0.468000\n",
      "Epoch 40, CIFAR-10 Batch 5:  Loss:     0.0000 Validation Accuracy: 0.477000\n"
     ]
    }
   ],
   "source": [
    "\"\"\"\n",
    "DON'T MODIFY ANYTHING IN THIS CELL\n",
    "\"\"\"\n",
    "save_model_path = './image_classification'\n",
    "\n",
    "print('Training...')\n",
    "with tf.Session() as sess:\n",
    "    # Initializing the variables\n",
    "    sess.run(tf.global_variables_initializer())\n",
    "    \n",
    "    # Training cycle\n",
    "    for epoch in range(epochs):\n",
    "        # Loop over all batches\n",
    "        n_batches = 5\n",
    "        for batch_i in range(1, n_batches + 1):\n",
    "            for batch_features, batch_labels in helper.load_preprocess_training_batch(batch_i, batch_size):\n",
    "                train_neural_network(sess, optimizer, keep_probability, batch_features, batch_labels)\n",
    "            print('Epoch {:>2}, CIFAR-10 Batch {}:  '.format(epoch + 1, batch_i), end='')\n",
    "            print_stats(sess, batch_features, batch_labels, cost, accuracy)\n",
    "            \n",
    "    # Save Model\n",
    "    saver = tf.train.Saver()\n",
    "    save_path = saver.save(sess, save_model_path)"
   ]
  },
  {
   "cell_type": "markdown",
   "metadata": {},
   "source": [
    "# Checkpoint\n",
    "The model has been saved to disk.\n",
    "## Test Model\n",
    "Test your model against the test dataset.  This will be your final accuracy. You should have an accuracy greater than 50%. If you don't, keep tweaking the model architecture and parameters."
   ]
  },
  {
   "cell_type": "code",
   "execution_count": 206,
   "metadata": {},
   "outputs": [
    {
     "name": "stdout",
     "output_type": "stream",
     "text": [
      "INFO:tensorflow:Restoring parameters from ./image_classification\n",
      "Testing Accuracy: 0.4611328125\n",
      "\n"
     ]
    },
    {
     "data": {
      "image/png": "[encoded data removed]",
      "text/plain": [
       "<matplotlib.figure.Figure at 0x115be5cf8>"
      ]
     },
     "metadata": {
      "image/png": {
       "height": 319,
       "width": 349
      }
     },
     "output_type": "display_data"
    }
   ],
   "source": [
    "\"\"\"\n",
    "DON'T MODIFY ANYTHING IN THIS CELL\n",
    "\"\"\"\n",
    "%matplotlib inline\n",
    "%config InlineBackend.figure_format = 'retina'\n",
    "\n",
    "import tensorflow as tf\n",
    "import pickle\n",
    "import helper\n",
    "import random\n",
    "\n",
    "# Set batch size if not already set\n",
    "try:\n",
    "    if batch_size:\n",
    "        pass\n",
    "except NameError:\n",
    "    batch_size = 64\n",
    "\n",
    "save_model_path = './image_classification'\n",
    "n_samples = 4\n",
    "top_n_predictions = 3\n",
    "\n",
    "def test_model():\n",
    "    \"\"\"\n",
    "    Test the saved model against the test dataset\n",
    "    \"\"\"\n",
    "\n",
    "    test_features, test_labels = pickle.load(open('preprocess_test.p', mode='rb'))\n",
    "    loaded_graph = tf.Graph()\n",
    "\n",
    "    with tf.Session(graph=loaded_graph) as sess:\n",
    "        # Load model\n",
    "        loader = tf.train.import_meta_graph(save_model_path + '.meta')\n",
    "        loader.restore(sess, save_model_path)\n",
    "\n",
    "        # Get Tensors from loaded model\n",
    "        loaded_x = loaded_graph.get_tensor_by_name('x:0')\n",
    "        loaded_y = loaded_graph.get_tensor_by_name('y:0')\n",
    "        loaded_keep_prob = loaded_graph.get_tensor_by_name('keep_prob:0')\n",
    "        loaded_logits = loaded_graph.get_tensor_by_name('logits:0')\n",
    "        loaded_acc = loaded_graph.get_tensor_by_name('accuracy:0')\n",
    "        \n",
    "        # Get accuracy in batches for memory limitations\n",
    "        test_batch_acc_total = 0\n",
    "        test_batch_count = 0\n",
    "        \n",
    "        for test_feature_batch, test_label_batch in helper.batch_features_labels(test_features, test_labels, batch_size):\n",
    "            test_batch_acc_total += sess.run(\n",
    "                loaded_acc,\n",
    "                feed_dict={loaded_x: test_feature_batch, loaded_y: test_label_batch, loaded_keep_prob: 1.0})\n",
    "            test_batch_count += 1\n",
    "\n",
    "        print('Testing Accuracy: {}\\n'.format(test_batch_acc_total/test_batch_count))\n",
    "\n",
    "        # Print Random Samples\n",
    "        random_test_features, random_test_labels = tuple(zip(*random.sample(list(zip(test_features, test_labels)), n_samples)))\n",
    "        random_test_predictions = sess.run(\n",
    "            tf.nn.top_k(tf.nn.softmax(loaded_logits), top_n_predictions),\n",
    "            feed_dict={loaded_x: random_test_features, loaded_y: random_test_labels, loaded_keep_prob: 1.0})\n",
    "        helper.display_image_predictions(random_test_features, random_test_labels, random_test_predictions)\n",
    "\n",
    "\n",
    "test_model()"
   ]
  },
  {
   "cell_type": "markdown",
   "metadata": {},
   "source": [
    "## Why 50-80% Accuracy?\n",
    "You might be wondering why you can't get an accuracy any higher. First things first, 50% isn't bad for a simple CNN.  Pure guessing would get you 10% accuracy. However, you might notice people are getting scores [well above 80%](http://rodrigob.github.io/are_we_there_yet/build/classification_datasets_results.html#43494641522d3130).  That's because we haven't taught you all there is to know about neural networks. We still need to cover a few more techniques.\n",
    "## Submitting This Project\n",
    "When submitting this project, make sure to run all the cells before saving the notebook.  Save the notebook file as \"dlnd_image_classification.ipynb\" and save it as a HTML file under \"File\" -> \"Download as\".  Include the \"helper.py\" and \"problem_unittests.py\" files in your submission."
   ]
  }
 ],
 "metadata": {
  "kernelspec": {
   "display_name": "project2",
   "language": "python",
   "name": "project2"
  },
  "language_info": {
   "codemirror_mode": {
    "name": "ipython",
    "version": 3
   },
   "file_extension": ".py",
   "mimetype": "text/x-python",
   "name": "python",
   "nbconvert_exporter": "python",
   "pygments_lexer": "ipython3",
   "version": "3.6.1"
  }
 },
 "nbformat": 4,
 "nbformat_minor": 1
}
